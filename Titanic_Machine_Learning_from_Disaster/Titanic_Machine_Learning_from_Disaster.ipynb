{
 "cells": [
  {
   "cell_type": "markdown",
   "metadata": {},
   "source": [
    "# Titanic"
   ]
  },
  {
   "cell_type": "code",
   "execution_count": 68,
   "metadata": {},
   "outputs": [],
   "source": [
    "# Main packages\n",
    "import numpy as np\n",
    "import pandas as pd\n",
    "import xgboost as xgb\n",
    "\n",
    "# Classifiers\n",
    "from sklearn.ensemble import RandomForestClassifier, AdaBoostClassifier, GradientBoostingRegressor\n",
    "from sklearn.linear_model import LogisticRegression, SGDClassifier\n",
    "from sklearn.model_selection import train_test_split\n",
    "from sklearn.svm import SVC\n",
    "from sklearn.tree import DecisionTreeClassifier\n",
    "\n",
    "# Tools\n",
    "from sklearn.model_selection import cross_val_score"
   ]
  },
  {
   "cell_type": "code",
   "execution_count": 118,
   "metadata": {},
   "outputs": [],
   "source": [
    "# Importing data\n",
    "test = pd.read_csv('data/test.csv',index_col='PassengerId')\n",
    "train = pd.read_csv('data/train.csv',index_col='PassengerId')"
   ]
  },
  {
   "cell_type": "markdown",
   "metadata": {},
   "source": [
    "## Data processing functions"
   ]
  },
  {
   "cell_type": "code",
   "execution_count": 119,
   "metadata": {},
   "outputs": [],
   "source": [
    "def data_eng(df):\n",
    "    # Filling NA of original columns we'll use\n",
    "    df['Age'] = df['Age'].fillna(df['Age'].mean())\n",
    "    df['Fare'] = df['Fare'].fillna(df['Fare'].mean())\n",
    "    \n",
    "    # Creating columns\n",
    "    ## Based on the Name column\n",
    "    df['Mr'] = df['Name'].str.contains('Mr') & ~df['Name'].str.contains('Mrs')\n",
    "    df['Mrs'] = df['Name'].str.contains('Mrs')\n",
    "    df['Miss'] = df['Name'].str.contains('Miss')\n",
    "    \n",
    "    ## Based on the Embarked column\n",
    "    df['Cherbourg'] = df['Embarked'].str.contains('C')\n",
    "    df['Southampton'] = df['Embarked'].str.contains('S')\n",
    "    df['Queenstown'] = df['Embarked'].str.contains('Q')\n",
    "       \n",
    "    ## Based on the Sex column\n",
    "    df['Sex'] = ~df['Sex'].str.contains('female')\n",
    "    \n",
    "    ## Based on SibSp and Parch\n",
    "    df['Family'] = df['SibSp'] + df['Parch'] + 1\n",
    "    \n",
    "    # Combining columns\n",
    "    df['Pclass*Age'] = (df['Pclass']*df['Age']).apply(lambda x: 1/x if x != 0 else 999999999)\n",
    "    df['Fare*Age'] = (df['Fare']*df['Age']).apply(lambda x: 1/x if x != 0 else 999999999)\n",
    "    df['Pclass*Age*Fare'] = df['Pclass*Age']*df['Fare']\n",
    "    \n",
    "    return df\n",
    "\n",
    "def fill_na(df):    \n",
    "    \n",
    "    df['Pclass*Age'] = df['Pclass*Age'].fillna(df['Pclass*Age'].mean())\n",
    "    df['Fare*Age'] = df['Fare*Age'].fillna(df['Fare*Age'].mean())\n",
    "    df['Pclass*Age*Fare'] = df['Pclass*Age*Fare'].fillna(df['Pclass*Age*Fare'].mean())\n",
    "    df[['Cherbourg', 'Southampton', 'Queenstown']] = df[['Cherbourg', 'Southampton', 'Queenstown']].fillna(value = False)\n",
    "    \n",
    "    return df\n",
    "\n",
    "def prepare_df(df):\n",
    "    \n",
    "    df = data_eng(df)    \n",
    "    # Dropping columns\n",
    "    df = df.drop(['Name', 'Ticket', 'Cabin', 'Embarked'], axis=1)\n",
    "    \n",
    "    return fill_na(df)"
   ]
  },
  {
   "cell_type": "markdown",
   "metadata": {},
   "source": [
    "Applying data processing on train and then splitting dataset into **X_train** and **y_train**."
   ]
  },
  {
   "cell_type": "code",
   "execution_count": null,
   "metadata": {},
   "outputs": [],
   "source": [
    "train = prepare_df(train)\n",
    "X_train = train.drop('Survived', axis=1)\n",
    "y_train = train['Survived']"
   ]
  },
  {
   "cell_type": "markdown",
   "metadata": {},
   "source": [
    "Applying data processing on test"
   ]
  },
  {
   "cell_type": "code",
   "execution_count": 120,
   "metadata": {},
   "outputs": [],
   "source": [
    "test = prepare_df(test)"
   ]
  },
  {
   "cell_type": "markdown",
   "metadata": {},
   "source": [
    "## Training part"
   ]
  },
  {
   "cell_type": "markdown",
   "metadata": {},
   "source": [
    "Listing potentiels models"
   ]
  },
  {
   "cell_type": "code",
   "execution_count": 169,
   "metadata": {
    "scrolled": false
   },
   "outputs": [],
   "source": [
    "models = {\n",
    "    'RandomForest' : {\n",
    "        'model' : RandomForestClassifier(max_depth=3)\n",
    "    },\n",
    "    'LogisticRegression' : {\n",
    "        'model' : LogisticRegression(solver='lbfgs')\n",
    "    },\n",
    "    'DecisionTree' : {\n",
    "        'model' : DecisionTreeClassifier(max_depth=3)\n",
    "    },\n",
    "    'AdaBoost' : {\n",
    "        'model' : AdaBoostClassifier(DecisionTreeClassifier(max_depth=3), algorithm=\"SAMME.R\", learning_rate=0.2)\n",
    "    },\n",
    "    'XGBoost' : {\n",
    "        'model' : xgb.XGBClassifier(max_depth=3)\n",
    "    },\n",
    "}"
   ]
  },
  {
   "cell_type": "markdown",
   "metadata": {},
   "source": [
    "Checking cross validation scores for each model independantely, on **X1_train** and **y1_train**."
   ]
  },
  {
   "cell_type": "code",
   "execution_count": 170,
   "metadata": {
    "scrolled": false
   },
   "outputs": [
    {
     "name": "stdout",
     "output_type": "stream",
     "text": [
      "------------------------------------------------------------\n",
      "Classifier :\n",
      "RandomForestClassifier(bootstrap=True, class_weight=None, criterion='gini',\n",
      "            max_depth=3, max_features='auto', max_leaf_nodes=None,\n",
      "            min_impurity_decrease=0.0, min_impurity_split=None,\n",
      "            min_samples_leaf=1, min_samples_split=2,\n",
      "            min_weight_fraction_leaf=0.0, n_estimators='warn', n_jobs=None,\n",
      "            oob_score=False, random_state=None, verbose=0,\n",
      "            warm_start=False)\n",
      "\n",
      "Mean score over 10 folds : 0.8106429070580015\n",
      "\n",
      "\n",
      "------------------------------------------------------------\n",
      "Classifier :\n",
      "LogisticRegression(C=1.0, class_weight=None, dual=False, fit_intercept=True,\n",
      "          intercept_scaling=1, max_iter=100, multi_class='warn',\n",
      "          n_jobs=None, penalty='l2', random_state=None, solver='lbfgs',\n",
      "          tol=0.0001, verbose=0, warm_start=False)\n",
      "\n",
      "Mean score over 10 folds : 0.6719522266692077\n",
      "\n",
      "\n",
      "------------------------------------------------------------\n",
      "Classifier :\n",
      "DecisionTreeClassifier(class_weight=None, criterion='gini', max_depth=3,\n",
      "            max_features=None, max_leaf_nodes=None,\n",
      "            min_impurity_decrease=0.0, min_impurity_split=None,\n",
      "            min_samples_leaf=1, min_samples_split=2,\n",
      "            min_weight_fraction_leaf=0.0, presort=False, random_state=None,\n",
      "            splitter='best')\n",
      "\n",
      "Mean score over 10 folds : 0.8163020138491837\n",
      "\n",
      "\n",
      "------------------------------------------------------------\n",
      "Classifier :\n",
      "AdaBoostClassifier(algorithm='SAMME.R',\n",
      "          base_estimator=DecisionTreeClassifier(class_weight=None, criterion='gini', max_depth=3,\n",
      "            max_features=None, max_leaf_nodes=None,\n",
      "            min_impurity_decrease=0.0, min_impurity_split=None,\n",
      "            min_samples_leaf=1, min_samples_split=2,\n",
      "            min_weight_fraction_leaf=0.0, presort=False, random_state=None,\n",
      "            splitter='best'),\n",
      "          learning_rate=0.2, n_estimators=50, random_state=None)\n",
      "\n",
      "Mean score over 10 folds : 0.7995641954132521\n",
      "\n",
      "\n"
     ]
    }
   ],
   "source": [
    "import warnings\n",
    "warnings.filterwarnings('ignore')\n",
    "\n",
    "# Check scores with Cross Validation\n",
    "for clf in [x['model'] for x in models.values()]:\n",
    "    print('-'*60)\n",
    "    print(f'Classifier :\\n{clf}\\n\\nMean score over 10 folds : {cross_val_score(clf, X1_train, y1_train, cv=10).mean()}\\n\\n')"
   ]
  },
  {
   "cell_type": "markdown",
   "metadata": {},
   "source": [
    "Predicting for each model independantely. **Training on X1_train** but **predicting on X2_train**."
   ]
  },
  {
   "cell_type": "code",
   "execution_count": 171,
   "metadata": {},
   "outputs": [
    {
     "name": "stdout",
     "output_type": "stream",
     "text": [
      "------------------------------------------------------------\n",
      "Classifier : <class 'sklearn.ensemble.forest.RandomForestClassifier'> is done predicting !\n",
      "\n",
      "------------------------------------------------------------\n",
      "Classifier : <class 'sklearn.linear_model.logistic.LogisticRegression'> is done predicting !\n",
      "\n",
      "------------------------------------------------------------\n",
      "Classifier : <class 'sklearn.tree.tree.DecisionTreeClassifier'> is done predicting !\n",
      "\n",
      "------------------------------------------------------------\n",
      "Classifier : <class 'sklearn.ensemble.weight_boosting.AdaBoostClassifier'> is done predicting !\n",
      "\n",
      "------------------------------------------------------------\n",
      "Classifier : <class 'xgboost.sklearn.XGBClassifier'> is done predicting !\n",
      "\n"
     ]
    }
   ],
   "source": [
    "# Predictions\n",
    "for elt in methods.values():\n",
    "    elt['predictions'] = elt['method'].fit(X1_train, y1_train).predict(X2_train)\n",
    "    print('-'*60)\n",
    "    print(f'Classifier : {elt[\"method\"].__class__} is done predicting !\\n')"
   ]
  },
  {
   "cell_type": "markdown",
   "metadata": {},
   "source": [
    "Creating a dataframe based on **models X2_train predictions**."
   ]
  },
  {
   "cell_type": "code",
   "execution_count": 172,
   "metadata": {},
   "outputs": [
    {
     "data": {
      "text/html": [
       "<div>\n",
       "<style scoped>\n",
       "    .dataframe tbody tr th:only-of-type {\n",
       "        vertical-align: middle;\n",
       "    }\n",
       "\n",
       "    .dataframe tbody tr th {\n",
       "        vertical-align: top;\n",
       "    }\n",
       "\n",
       "    .dataframe thead th {\n",
       "        text-align: right;\n",
       "    }\n",
       "</style>\n",
       "<table border=\"1\" class=\"dataframe\">\n",
       "  <thead>\n",
       "    <tr style=\"text-align: right;\">\n",
       "      <th></th>\n",
       "      <th>RandomForest</th>\n",
       "      <th>LogisticRegression</th>\n",
       "      <th>DecisionTree</th>\n",
       "      <th>AdaBoost</th>\n",
       "      <th>XGBoost</th>\n",
       "    </tr>\n",
       "  </thead>\n",
       "  <tbody>\n",
       "    <tr>\n",
       "      <th>0</th>\n",
       "      <td>0</td>\n",
       "      <td>0</td>\n",
       "      <td>0</td>\n",
       "      <td>0</td>\n",
       "      <td>0</td>\n",
       "    </tr>\n",
       "    <tr>\n",
       "      <th>1</th>\n",
       "      <td>0</td>\n",
       "      <td>0</td>\n",
       "      <td>0</td>\n",
       "      <td>0</td>\n",
       "      <td>0</td>\n",
       "    </tr>\n",
       "    <tr>\n",
       "      <th>2</th>\n",
       "      <td>0</td>\n",
       "      <td>0</td>\n",
       "      <td>0</td>\n",
       "      <td>0</td>\n",
       "      <td>0</td>\n",
       "    </tr>\n",
       "    <tr>\n",
       "      <th>3</th>\n",
       "      <td>1</td>\n",
       "      <td>0</td>\n",
       "      <td>1</td>\n",
       "      <td>1</td>\n",
       "      <td>1</td>\n",
       "    </tr>\n",
       "    <tr>\n",
       "      <th>4</th>\n",
       "      <td>1</td>\n",
       "      <td>0</td>\n",
       "      <td>1</td>\n",
       "      <td>1</td>\n",
       "      <td>1</td>\n",
       "    </tr>\n",
       "  </tbody>\n",
       "</table>\n",
       "</div>"
      ],
      "text/plain": [
       "   RandomForest  LogisticRegression  DecisionTree  AdaBoost  XGBoost\n",
       "0             0                   0             0         0        0\n",
       "1             0                   0             0         0        0\n",
       "2             0                   0             0         0        0\n",
       "3             1                   0             1         1        1\n",
       "4             1                   0             1         1        1"
      ]
     },
     "execution_count": 172,
     "metadata": {},
     "output_type": "execute_result"
    }
   ],
   "source": [
    "# Building res df\n",
    "clf_res_dict = {key: value['predictions'] for (key, value) in methods.items()}\n",
    "clf_res_df = pd.DataFrame(clf_res_dict)\n",
    "clf_res_df.head()"
   ]
  },
  {
   "cell_type": "markdown",
   "metadata": {},
   "source": [
    "Listing potential meta classifiers :"
   ]
  },
  {
   "cell_type": "code",
   "execution_count": null,
   "metadata": {},
   "outputs": [],
   "source": [
    "meta_clfs = [\n",
    "    DecisionTreeClassifier(min_samples_split=40, max_depth=2),\n",
    "    LogisticRegression(solver='lbfgs'),\n",
    "    xgb.XGBClassifier(max_depth=3)\n",
    "]"
   ]
  },
  {
   "cell_type": "markdown",
   "metadata": {},
   "source": [
    "For each classifier, check its cross validation score with **clf_res_df as input and y2_train as output**."
   ]
  },
  {
   "cell_type": "code",
   "execution_count": 173,
   "metadata": {},
   "outputs": [
    {
     "name": "stdout",
     "output_type": "stream",
     "text": [
      "<class 'sklearn.tree.tree.DecisionTreeClassifier'> score : 0.8035413985413985\n",
      "<class 'sklearn.linear_model.logistic.LogisticRegression'> score : 0.8091763191763193\n",
      "<class 'xgboost.sklearn.XGBClassifier'> score : 0.8063985413985414\n"
     ]
    }
   ],
   "source": [
    "for meta_clf in meta_clfs:\n",
    "    print(f\"{meta_clf.__class__} score : {cross_val_score(meta_clf, clf_res_df, y2_train, cv=10).mean()}\")"
   ]
  },
  {
   "cell_type": "markdown",
   "metadata": {},
   "source": [
    "Selecting meta classifier :"
   ]
  },
  {
   "cell_type": "code",
   "execution_count": null,
   "metadata": {},
   "outputs": [],
   "source": [
    "meta_clf = meta_clfs[1]"
   ]
  },
  {
   "cell_type": "markdown",
   "metadata": {},
   "source": [
    "Training the selected meta classifier with **clf_res_df as input and y2_train as output**."
   ]
  },
  {
   "cell_type": "code",
   "execution_count": 174,
   "metadata": {},
   "outputs": [
    {
     "data": {
      "text/plain": [
       "LogisticRegression(C=1.0, class_weight=None, dual=False, fit_intercept=True,\n",
       "          intercept_scaling=1, max_iter=100, multi_class='warn',\n",
       "          n_jobs=None, penalty='l2', random_state=None, solver='lbfgs',\n",
       "          tol=0.0001, verbose=0, warm_start=False)"
      ]
     },
     "execution_count": 174,
     "metadata": {},
     "output_type": "execute_result"
    }
   ],
   "source": [
    "meta_clfs[1].fit(clf_res_df, y2_train)"
   ]
  },
  {
   "cell_type": "markdown",
   "metadata": {},
   "source": [
    "## Generating the results"
   ]
  },
  {
   "cell_type": "markdown",
   "metadata": {},
   "source": [
    "Predicting results from the test dataset."
   ]
  },
  {
   "cell_type": "code",
   "execution_count": 175,
   "metadata": {},
   "outputs": [
    {
     "name": "stdout",
     "output_type": "stream",
     "text": [
      "------------------------------------------------------------\n",
      "Classifier : <class 'sklearn.ensemble.forest.RandomForestClassifier'> is done predicting on the test !\n",
      "\n",
      "------------------------------------------------------------\n",
      "Classifier : <class 'sklearn.linear_model.logistic.LogisticRegression'> is done predicting on the test !\n",
      "\n",
      "------------------------------------------------------------\n",
      "Classifier : <class 'sklearn.tree.tree.DecisionTreeClassifier'> is done predicting on the test !\n",
      "\n",
      "------------------------------------------------------------\n",
      "Classifier : <class 'sklearn.ensemble.weight_boosting.AdaBoostClassifier'> is done predicting on the test !\n",
      "\n",
      "------------------------------------------------------------\n",
      "Classifier : <class 'xgboost.sklearn.XGBClassifier'> is done predicting on the test !\n",
      "\n"
     ]
    }
   ],
   "source": [
    "for elt in methods.values():\n",
    "    elt['predictions_test'] = elt['method'].predict(test)\n",
    "    print('-'*60)\n",
    "    print(f'Classifier : {elt[\"method\"].__class__} is done predicting on the test !\\n')"
   ]
  },
  {
   "cell_type": "markdown",
   "metadata": {},
   "source": [
    "Predicting final results using the meta classifier, using the results above."
   ]
  },
  {
   "cell_type": "code",
   "execution_count": 176,
   "metadata": {},
   "outputs": [
    {
     "data": {
      "text/html": [
       "<div>\n",
       "<style scoped>\n",
       "    .dataframe tbody tr th:only-of-type {\n",
       "        vertical-align: middle;\n",
       "    }\n",
       "\n",
       "    .dataframe tbody tr th {\n",
       "        vertical-align: top;\n",
       "    }\n",
       "\n",
       "    .dataframe thead th {\n",
       "        text-align: right;\n",
       "    }\n",
       "</style>\n",
       "<table border=\"1\" class=\"dataframe\">\n",
       "  <thead>\n",
       "    <tr style=\"text-align: right;\">\n",
       "      <th></th>\n",
       "      <th>RandomForest</th>\n",
       "      <th>LogisticRegression</th>\n",
       "      <th>DecisionTree</th>\n",
       "      <th>AdaBoost</th>\n",
       "      <th>XGBoost</th>\n",
       "    </tr>\n",
       "  </thead>\n",
       "  <tbody>\n",
       "    <tr>\n",
       "      <th>0</th>\n",
       "      <td>0</td>\n",
       "      <td>0</td>\n",
       "      <td>0</td>\n",
       "      <td>0</td>\n",
       "      <td>0</td>\n",
       "    </tr>\n",
       "    <tr>\n",
       "      <th>1</th>\n",
       "      <td>0</td>\n",
       "      <td>0</td>\n",
       "      <td>1</td>\n",
       "      <td>0</td>\n",
       "      <td>0</td>\n",
       "    </tr>\n",
       "    <tr>\n",
       "      <th>2</th>\n",
       "      <td>0</td>\n",
       "      <td>0</td>\n",
       "      <td>0</td>\n",
       "      <td>0</td>\n",
       "      <td>0</td>\n",
       "    </tr>\n",
       "    <tr>\n",
       "      <th>3</th>\n",
       "      <td>0</td>\n",
       "      <td>0</td>\n",
       "      <td>0</td>\n",
       "      <td>1</td>\n",
       "      <td>0</td>\n",
       "    </tr>\n",
       "    <tr>\n",
       "      <th>4</th>\n",
       "      <td>1</td>\n",
       "      <td>0</td>\n",
       "      <td>1</td>\n",
       "      <td>0</td>\n",
       "      <td>0</td>\n",
       "    </tr>\n",
       "  </tbody>\n",
       "</table>\n",
       "</div>"
      ],
      "text/plain": [
       "   RandomForest  LogisticRegression  DecisionTree  AdaBoost  XGBoost\n",
       "0             0                   0             0         0        0\n",
       "1             0                   0             1         0        0\n",
       "2             0                   0             0         0        0\n",
       "3             0                   0             0         1        0\n",
       "4             1                   0             1         0        0"
      ]
     },
     "execution_count": 176,
     "metadata": {},
     "output_type": "execute_result"
    }
   ],
   "source": [
    "# Building res df for the test\n",
    "clf_res_dict_test = {key: value['predictions_test'] for (key, value) in methods.items()}\n",
    "clf_res_df_test = pd.DataFrame(clf_res_dict_test)\n",
    "clf_res_df_test.head()"
   ]
  },
  {
   "cell_type": "markdown",
   "metadata": {},
   "source": [
    "Generating the .csv file"
   ]
  },
  {
   "cell_type": "code",
   "execution_count": 177,
   "metadata": {},
   "outputs": [],
   "source": [
    "df_res = pd.DataFrame({'PassengerId':test.index, 'Survived':meta_clf.predict(clf_res_df_test)})"
   ]
  },
  {
   "cell_type": "code",
   "execution_count": 178,
   "metadata": {},
   "outputs": [],
   "source": [
    "df_res.to_csv('still_have_hope_dt.csv', index=False)"
   ]
  }
 ],
 "metadata": {
  "kernelspec": {
   "display_name": "Python 3",
   "language": "python",
   "name": "python3"
  },
  "language_info": {
   "codemirror_mode": {
    "name": "ipython",
    "version": 3
   },
   "file_extension": ".py",
   "mimetype": "text/x-python",
   "name": "python",
   "nbconvert_exporter": "python",
   "pygments_lexer": "ipython3",
   "version": "3.6.5"
  }
 },
 "nbformat": 4,
 "nbformat_minor": 2
}
